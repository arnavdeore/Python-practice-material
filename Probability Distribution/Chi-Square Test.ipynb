{
 "cells": [
  {
   "cell_type": "markdown",
   "id": "134ad3a0-c2a5-44e7-a3cd-aac308bbb632",
   "metadata": {},
   "source": [
    "# Chi-Square Test"
   ]
  },
  {
   "cell_type": "markdown",
   "id": "357715ba-74a7-47b2-93a3-bab63a67f8d0",
   "metadata": {},
   "source": [
    "* Chi-Sqaure tests of independence test whether two qualitive variable are indipentdent, i.e whether there exists a relationship between two\n",
    "  categorical  variable.\n",
    "\n",
    "* **Hypothesis:** The Chi-Sqaure test of independence is a hypothesis test it has a null(Ho) and alternative(Ha) Hypothesis.\n",
    "   1. Ho - the **variables are independent there is no relationship** between the two categorical variables. Knowing the\n",
    "           values of one variable does not help to predict the value of the other variable.\n",
    "   2. Ha - the **variable are dependent there is a relationship** between the two categorical variables knowing the values of one\n",
    "           variable helps to predict the value of the other variable.\n",
    "* The Chi-Sqaure test is used when the data is categorical and it detects the difference between observed data and what could we expect\n",
    "  if the Ho is true.\n",
    "* Expected frequence tells us how the frequencies will look like if the **Null Hypothesis(Ho)** is true.\n",
    "* If, **Observered Frequency** != **Excpected Frequency** --> **Columns are gonna be Dependent**\n",
    "* Chi - Distribution is always gonna be **Right Skeweness**\n",
    "   "
   ]
  },
  {
   "cell_type": "code",
   "execution_count": 1,
   "id": "86490c52-93ef-46c0-8478-54a9d271d233",
   "metadata": {},
   "outputs": [],
   "source": [
    "#import librarie\n",
    "from scipy import stats as st\n",
    "from scipy.stats import chi2_contingency\n",
    "import pandas as pd"
   ]
  },
  {
   "cell_type": "code",
   "execution_count": 2,
   "id": "2a819775-6053-4627-9853-71c1943c0e48",
   "metadata": {},
   "outputs": [
    {
     "data": {
      "text/html": [
       "<div>\n",
       "<style scoped>\n",
       "    .dataframe tbody tr th:only-of-type {\n",
       "        vertical-align: middle;\n",
       "    }\n",
       "\n",
       "    .dataframe tbody tr th {\n",
       "        vertical-align: top;\n",
       "    }\n",
       "\n",
       "    .dataframe thead th {\n",
       "        text-align: right;\n",
       "    }\n",
       "</style>\n",
       "<table border=\"1\" class=\"dataframe\">\n",
       "  <thead>\n",
       "    <tr style=\"text-align: right;\">\n",
       "      <th></th>\n",
       "      <th>Athlete</th>\n",
       "      <th>Smoker</th>\n",
       "    </tr>\n",
       "  </thead>\n",
       "  <tbody>\n",
       "    <tr>\n",
       "      <th>0</th>\n",
       "      <td>Y</td>\n",
       "      <td>yes</td>\n",
       "    </tr>\n",
       "    <tr>\n",
       "      <th>1</th>\n",
       "      <td>Y</td>\n",
       "      <td>yes</td>\n",
       "    </tr>\n",
       "    <tr>\n",
       "      <th>2</th>\n",
       "      <td>Y</td>\n",
       "      <td>no</td>\n",
       "    </tr>\n",
       "    <tr>\n",
       "      <th>3</th>\n",
       "      <td>Y</td>\n",
       "      <td>no</td>\n",
       "    </tr>\n",
       "    <tr>\n",
       "      <th>4</th>\n",
       "      <td>Y</td>\n",
       "      <td>yes</td>\n",
       "    </tr>\n",
       "    <tr>\n",
       "      <th>5</th>\n",
       "      <td>Y</td>\n",
       "      <td>no</td>\n",
       "    </tr>\n",
       "    <tr>\n",
       "      <th>6</th>\n",
       "      <td>Y</td>\n",
       "      <td>yes</td>\n",
       "    </tr>\n",
       "    <tr>\n",
       "      <th>7</th>\n",
       "      <td>Y</td>\n",
       "      <td>no</td>\n",
       "    </tr>\n",
       "    <tr>\n",
       "      <th>8</th>\n",
       "      <td>Y</td>\n",
       "      <td>no</td>\n",
       "    </tr>\n",
       "    <tr>\n",
       "      <th>9</th>\n",
       "      <td>Y</td>\n",
       "      <td>no</td>\n",
       "    </tr>\n",
       "    <tr>\n",
       "      <th>10</th>\n",
       "      <td>Y</td>\n",
       "      <td>no</td>\n",
       "    </tr>\n",
       "    <tr>\n",
       "      <th>11</th>\n",
       "      <td>Y</td>\n",
       "      <td>no</td>\n",
       "    </tr>\n",
       "    <tr>\n",
       "      <th>12</th>\n",
       "      <td>Y</td>\n",
       "      <td>no</td>\n",
       "    </tr>\n",
       "    <tr>\n",
       "      <th>13</th>\n",
       "      <td>Y</td>\n",
       "      <td>no</td>\n",
       "    </tr>\n",
       "    <tr>\n",
       "      <th>14</th>\n",
       "      <td>Y</td>\n",
       "      <td>no</td>\n",
       "    </tr>\n",
       "    <tr>\n",
       "      <th>15</th>\n",
       "      <td>Y</td>\n",
       "      <td>no</td>\n",
       "    </tr>\n",
       "    <tr>\n",
       "      <th>16</th>\n",
       "      <td>Y</td>\n",
       "      <td>no</td>\n",
       "    </tr>\n",
       "    <tr>\n",
       "      <th>17</th>\n",
       "      <td>Y</td>\n",
       "      <td>no</td>\n",
       "    </tr>\n",
       "    <tr>\n",
       "      <th>18</th>\n",
       "      <td>N</td>\n",
       "      <td>yes</td>\n",
       "    </tr>\n",
       "    <tr>\n",
       "      <th>19</th>\n",
       "      <td>N</td>\n",
       "      <td>yes</td>\n",
       "    </tr>\n",
       "    <tr>\n",
       "      <th>20</th>\n",
       "      <td>N</td>\n",
       "      <td>yes</td>\n",
       "    </tr>\n",
       "    <tr>\n",
       "      <th>21</th>\n",
       "      <td>N</td>\n",
       "      <td>yes</td>\n",
       "    </tr>\n",
       "    <tr>\n",
       "      <th>22</th>\n",
       "      <td>N</td>\n",
       "      <td>yes</td>\n",
       "    </tr>\n",
       "    <tr>\n",
       "      <th>23</th>\n",
       "      <td>N</td>\n",
       "      <td>yes</td>\n",
       "    </tr>\n",
       "    <tr>\n",
       "      <th>24</th>\n",
       "      <td>N</td>\n",
       "      <td>yes</td>\n",
       "    </tr>\n",
       "    <tr>\n",
       "      <th>25</th>\n",
       "      <td>N</td>\n",
       "      <td>yes</td>\n",
       "    </tr>\n",
       "    <tr>\n",
       "      <th>26</th>\n",
       "      <td>N</td>\n",
       "      <td>yes</td>\n",
       "    </tr>\n",
       "    <tr>\n",
       "      <th>27</th>\n",
       "      <td>N</td>\n",
       "      <td>yes</td>\n",
       "    </tr>\n",
       "  </tbody>\n",
       "</table>\n",
       "</div>"
      ],
      "text/plain": [
       "   Athlete Smoker\n",
       "0        Y    yes\n",
       "1        Y    yes\n",
       "2        Y     no\n",
       "3        Y     no\n",
       "4        Y    yes\n",
       "5        Y     no\n",
       "6        Y    yes\n",
       "7        Y     no\n",
       "8        Y     no\n",
       "9        Y     no\n",
       "10       Y     no\n",
       "11       Y     no\n",
       "12       Y     no\n",
       "13       Y     no\n",
       "14       Y     no\n",
       "15       Y     no\n",
       "16       Y     no\n",
       "17       Y     no\n",
       "18       N    yes\n",
       "19       N    yes\n",
       "20       N    yes\n",
       "21       N    yes\n",
       "22       N    yes\n",
       "23       N    yes\n",
       "24       N    yes\n",
       "25       N    yes\n",
       "26       N    yes\n",
       "27       N    yes"
      ]
     },
     "execution_count": 2,
     "metadata": {},
     "output_type": "execute_result"
    }
   ],
   "source": [
    "#import the dataset file(.CSV)\n",
    "df = pd.read_csv('https://raw.githubusercontent.com/aishwaryamate/Datasets/main/chi2.csv', index_col = 0)\n",
    "df"
   ]
  },
  {
   "cell_type": "code",
   "execution_count": 3,
   "id": "cead232a-5a08-4f5b-9a73-d5a842a274af",
   "metadata": {},
   "outputs": [
    {
     "data": {
      "text/html": [
       "<div>\n",
       "<style scoped>\n",
       "    .dataframe tbody tr th:only-of-type {\n",
       "        vertical-align: middle;\n",
       "    }\n",
       "\n",
       "    .dataframe tbody tr th {\n",
       "        vertical-align: top;\n",
       "    }\n",
       "\n",
       "    .dataframe thead th {\n",
       "        text-align: right;\n",
       "    }\n",
       "</style>\n",
       "<table border=\"1\" class=\"dataframe\">\n",
       "  <thead>\n",
       "    <tr style=\"text-align: right;\">\n",
       "      <th>Smoker</th>\n",
       "      <th>no</th>\n",
       "      <th>yes</th>\n",
       "    </tr>\n",
       "    <tr>\n",
       "      <th>Athlete</th>\n",
       "      <th></th>\n",
       "      <th></th>\n",
       "    </tr>\n",
       "  </thead>\n",
       "  <tbody>\n",
       "    <tr>\n",
       "      <th>N</th>\n",
       "      <td>0</td>\n",
       "      <td>10</td>\n",
       "    </tr>\n",
       "    <tr>\n",
       "      <th>Y</th>\n",
       "      <td>14</td>\n",
       "      <td>4</td>\n",
       "    </tr>\n",
       "  </tbody>\n",
       "</table>\n",
       "</div>"
      ],
      "text/plain": [
       "Smoker   no  yes\n",
       "Athlete         \n",
       "N         0   10\n",
       "Y        14    4"
      ]
     },
     "execution_count": 3,
     "metadata": {},
     "output_type": "execute_result"
    }
   ],
   "source": [
    "#To calculate the observered Frequencies we need to create the following table\n",
    "obs = pd.crosstab(index = df['Athlete'], columns = df['Smoker'])\n",
    "obs"
   ]
  },
  {
   "cell_type": "code",
   "execution_count": 4,
   "id": "b7cb14fc-ed21-4a88-925a-886a19084d10",
   "metadata": {},
   "outputs": [],
   "source": [
    "# we need to calculate the contingency which will give us following values:\n",
    "# Chi2 = Chi-Square statistical value || P-value || Degrees of Freedom(df) || Expected Frequency = exp\n",
    "chi2, p, df, exp = chi2_contingency(obs)"
   ]
  },
  {
   "cell_type": "code",
   "execution_count": 5,
   "id": "a5af3eac-ed8c-4626-9997-e1df9d5238c1",
   "metadata": {},
   "outputs": [
    {
     "data": {
      "text/plain": [
       "(12.6, 1)"
      ]
     },
     "execution_count": 5,
     "metadata": {},
     "output_type": "execute_result"
    }
   ],
   "source": [
    "chi2 , df"
   ]
  },
  {
   "cell_type": "code",
   "execution_count": 6,
   "id": "f5707687-1215-462a-84c2-8fcbdc36fbe0",
   "metadata": {},
   "outputs": [
    {
     "data": {
      "text/plain": [
       "0.00038574675568200776"
      ]
     },
     "execution_count": 6,
     "metadata": {},
     "output_type": "execute_result"
    }
   ],
   "source": [
    "p"
   ]
  },
  {
   "cell_type": "code",
   "execution_count": 7,
   "id": "1430f74b-627c-4a22-a9cd-3973749e30a7",
   "metadata": {},
   "outputs": [
    {
     "data": {
      "text/plain": [
       "array([[5., 5.],\n",
       "       [9., 9.]])"
      ]
     },
     "execution_count": 7,
     "metadata": {},
     "output_type": "execute_result"
    }
   ],
   "source": [
    "exp"
   ]
  },
  {
   "cell_type": "code",
   "execution_count": 8,
   "id": "204f23e4-9a77-4f5f-9948-2e3b75e7863e",
   "metadata": {},
   "outputs": [
    {
     "name": "stdout",
     "output_type": "stream",
     "text": [
      "Reject the Null Hypothesis i.e columns are dependent on eachother.\n"
     ]
    }
   ],
   "source": [
    "#Conclusion\n",
    "if p < 0.05:\n",
    "    print(\"Reject the Null Hypothesis i.e columns are dependent on eachother.\")\n",
    "else:\n",
    "    print(\"Fail to Reject Null Hypothesis\")"
   ]
  },
  {
   "cell_type": "code",
   "execution_count": 9,
   "id": "95ccc04a-1d8d-4167-be75-17c9304d5b45",
   "metadata": {},
   "outputs": [
    {
     "data": {
      "text/plain": [
       "0.0883764323567855"
      ]
     },
     "execution_count": 9,
     "metadata": {},
     "output_type": "execute_result"
    }
   ],
   "source": [
    "1-st.chi2.cdf(12,6,1)"
   ]
  }
 ],
 "metadata": {
  "kernelspec": {
   "display_name": "Python 3 (ipykernel)",
   "language": "python",
   "name": "python3"
  },
  "language_info": {
   "codemirror_mode": {
    "name": "ipython",
    "version": 3
   },
   "file_extension": ".py",
   "mimetype": "text/x-python",
   "name": "python",
   "nbconvert_exporter": "python",
   "pygments_lexer": "ipython3",
   "version": "3.11.7"
  }
 },
 "nbformat": 4,
 "nbformat_minor": 5
}
