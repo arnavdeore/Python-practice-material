{
 "cells": [
  {
   "cell_type": "markdown",
   "id": "401a84ee-c90e-4963-b15f-c345a2dc2206",
   "metadata": {},
   "source": [
    "# Example"
   ]
  },
  {
   "cell_type": "markdown",
   "id": "83592d7c-ecc6-49ba-a59f-b37ad054f9a2",
   "metadata": {},
   "source": [
    "### Is there a significant difference between the population proportions of state 1 and state 2 who report that they have been placed immediately after    education? Populations: All Students who have completed graduation and Post graduation in both both states, Parameter of Interest: pl p2, where p1 statel and p2 = state2\n",
    "\n",
    "    --> Data: 247 students from state 1. 36.8% of students report that they have got the job.\n",
    "    --> 308 students from state 2. 38.9% of students report that they have got the job.\n",
    "    ==> P1=36.8% , n1=247\n",
    "    ==> P2=38.9% , n=308\n",
    "    ==> Confidence level = 95% or 0.95 \n",
    "    ==> Alpha value(α) = 5% or 0.05\n",
    "\n",
    "Steps==>\n",
    "\n",
    "     1.Hypothesis Definition:\n",
    "             Ho - p1-p2 = 0\n",
    "             Ha - p1-p2 != 0"
   ]
  },
  {
   "cell_type": "code",
   "execution_count": 1,
   "id": "724d5dda-37de-4743-95e8-b986a19f4d96",
   "metadata": {},
   "outputs": [],
   "source": [
    "#importing the libaries\n",
    "import numpy as np\n",
    "\n",
    "#initializing the variables and values\n",
    "n1 = 247\n",
    "p1 = 0.37\n",
    "\n",
    "n2 = 308\n",
    "p2 = 0.39"
   ]
  },
  {
   "cell_type": "code",
   "execution_count": 2,
   "id": "cbe6d5ff-6b16-4c04-aa26-b9df037c9a31",
   "metadata": {},
   "outputs": [],
   "source": [
    "# to create/generate the sample data points\n",
    "sample1 = np.random.binomial(1,p1,n1)\n",
    "sample2 = np.random.binomial(1,p2,n2)"
   ]
  },
  {
   "cell_type": "code",
   "execution_count": 3,
   "id": "9b912bd4-9df3-4e6d-99de-4f99fb0de329",
   "metadata": {},
   "outputs": [
    {
     "data": {
      "text/plain": [
       "array([0, 0, 0, 1, 0, 0, 0, 0, 1, 1, 0, 1, 0, 0, 0, 0, 0, 1, 1, 1, 0, 0,\n",
       "       0, 1, 1, 1, 1, 0, 0, 0, 1, 0, 0, 0, 0, 1, 0, 0, 0, 1, 0, 0, 0, 1,\n",
       "       1, 0, 0, 0, 1, 0, 0, 1, 1, 0, 1, 0, 1, 0, 0, 1, 0, 1, 0, 1, 1, 0,\n",
       "       0, 0, 0, 1, 0, 0, 1, 0, 0, 0, 0, 0, 0, 1, 1, 0, 0, 0, 1, 0, 0, 0,\n",
       "       0, 1, 0, 0, 0, 0, 1, 1, 1, 0, 1, 0, 0, 1, 1, 1, 1, 0, 0, 1, 0, 0,\n",
       "       0, 0, 1, 1, 0, 1, 1, 1, 0, 1, 0, 1, 1, 1, 1, 0, 0, 1, 0, 0, 0, 1,\n",
       "       1, 0, 1, 1, 0, 1, 0, 0, 0, 0, 1, 0, 1, 0, 0, 0, 0, 0, 1, 1, 0, 0,\n",
       "       1, 1, 0, 0, 1, 0, 0, 1, 1, 0, 1, 0, 1, 1, 1, 0, 1, 1, 1, 1, 1, 1,\n",
       "       0, 1, 0, 1, 1, 1, 0, 0, 1, 1, 0, 0, 0, 0, 1, 1, 1, 0, 0, 0, 0, 1,\n",
       "       0, 1, 0, 1, 1, 0, 1, 0, 0, 1, 0, 1, 0, 0, 0, 1, 0, 1, 0, 0, 1, 0,\n",
       "       1, 0, 0, 0, 0, 1, 1, 1, 0, 0, 0, 0, 0, 1, 0, 0, 0, 0, 0, 0, 0, 1,\n",
       "       1, 0, 0, 0, 0])"
      ]
     },
     "execution_count": 3,
     "metadata": {},
     "output_type": "execute_result"
    }
   ],
   "source": [
    "sample1"
   ]
  },
  {
   "cell_type": "code",
   "execution_count": 4,
   "id": "0097360a-6506-4f30-a31c-4beec3f3abd0",
   "metadata": {},
   "outputs": [
    {
     "name": "stdout",
     "output_type": "stream",
     "text": [
      "0.4089068825910931 0.3961038961038961\n"
     ]
    }
   ],
   "source": [
    "#calculate the mean\n",
    "mean1 = sample1.mean()\n",
    "mean2 = sample2.mean()\n",
    "\n",
    "print(mean1, mean2)"
   ]
  },
  {
   "cell_type": "code",
   "execution_count": 5,
   "id": "f0854977-ee14-4b8b-baa1-05afc3aff36c",
   "metadata": {},
   "outputs": [],
   "source": [
    "# to calculate the proportions\n",
    "import statsmodels.api as sm\n",
    "t, p, df = sm.stats.ttest_ind(sample1, sample2)"
   ]
  },
  {
   "cell_type": "code",
   "execution_count": 6,
   "id": "d90f2257-6ed2-4293-9bb6-65c43fd7de14",
   "metadata": {},
   "outputs": [
    {
     "name": "stdout",
     "output_type": "stream",
     "text": [
      "0.30521986233030557 0.760313551847972 553.0\n"
     ]
    }
   ],
   "source": [
    "print(t , p , df)"
   ]
  },
  {
   "cell_type": "code",
   "execution_count": 7,
   "id": "67729c70-3cb9-425d-848b-4ae5330f05f5",
   "metadata": {},
   "outputs": [
    {
     "name": "stdout",
     "output_type": "stream",
     "text": [
      "Failed to reject the Null Hypothesis i.e p1 = p2\n"
     ]
    }
   ],
   "source": [
    "#Conclusion\n",
    "if p < 0.5:\n",
    "    print(\"Reject the Null Hypothesis i.e their is a difference between p1 and p2\")\n",
    "else:\n",
    "    print(\"Failed to reject the Null Hypothesis i.e p1 = p2\")"
   ]
  }
 ],
 "metadata": {
  "kernelspec": {
   "display_name": "Python 3 (ipykernel)",
   "language": "python",
   "name": "python3"
  },
  "language_info": {
   "codemirror_mode": {
    "name": "ipython",
    "version": 3
   },
   "file_extension": ".py",
   "mimetype": "text/x-python",
   "name": "python",
   "nbconvert_exporter": "python",
   "pygments_lexer": "ipython3",
   "version": "3.11.7"
  }
 },
 "nbformat": 4,
 "nbformat_minor": 5
}
