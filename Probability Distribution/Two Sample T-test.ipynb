{
 "cells": [
  {
   "cell_type": "markdown",
   "id": "e927e81f-91ea-4973-bec8-568e2a2cc224",
   "metadata": {},
   "source": [
    "# Example\n",
    "           \n",
    "6 subjects were given a drug (treatment group) and an additional 6 subjects a placebo (Control group). Their reaction time to a stimulus \n",
    "was measured (in ms). We want to perform a two-sample t test for comparing the means of the treatment and control group.\n",
    "\n",
    "          Control: [91,87,99,77,88,91]                                                       \n",
    "          Treat: [101,110,103,93,99,104]\n",
    "\n",
    "\n",
    "Steps==> 1.Types of Hypothesis: \n",
    "           Ho - Average response time of Control = Teatment i.e A=B where both the medcine has same effect\n",
    "           Ha - Average response time of Control != Teatment i.e A not equal to B\n",
    "\n",
    "        2.Type of test: T-test\n",
    "          Clearly no population Standard deviation is missing so its an T-Test               \n",
    "\n",
    "        3.Type of Tail test: Two Tail test.\n",
    "\n",
    "        4.Alpha Value(α): 0.5\n",
    "          as its not given so as per the industires rules we will go with 95% confidence level.\n",
    "\n",
    "        5.P-Value: 0.006272124350809803\n",
    "\n",
    "        6.Conclusion:\n",
    "            P-value < Alpha(α) = Reject the Null hypothesis(Ho)\n",
    "            P-value > Alpha(α) = Failed to reject the Null Hypothesis\n",
    "\n"
   ]
  },
  {
   "cell_type": "code",
   "execution_count": 1,
   "id": "eec22e67-7e3b-487d-8ace-396a2ff8f2b8",
   "metadata": {},
   "outputs": [],
   "source": [
    "#Calculating the Means for Both above samples.\n",
    "import statistics as s \n",
    "control = [91,87,99,77,88,91]\n",
    "treat = [101,110,103,93,99,104]"
   ]
  },
  {
   "cell_type": "code",
   "execution_count": 2,
   "id": "b22eddcb-b878-4e1b-a3cc-6c901e0e4155",
   "metadata": {},
   "outputs": [
    {
     "data": {
      "text/plain": [
       "88.83333333333333"
      ]
     },
     "execution_count": 2,
     "metadata": {},
     "output_type": "execute_result"
    }
   ],
   "source": [
    "s.mean(control)"
   ]
  },
  {
   "cell_type": "code",
   "execution_count": 3,
   "id": "7a1f16b0-2904-48a8-ab64-81e5585414cb",
   "metadata": {},
   "outputs": [
    {
     "data": {
      "text/plain": [
       "101.66666666666667"
      ]
     },
     "execution_count": 3,
     "metadata": {},
     "output_type": "execute_result"
    }
   ],
   "source": [
    "s.mean(treat)"
   ]
  },
  {
   "cell_type": "code",
   "execution_count": 4,
   "id": "d897b440-5bf5-4d25-891e-adbeb9642edc",
   "metadata": {},
   "outputs": [],
   "source": [
    "# importing libraries\n",
    "from scipy import stats as s\n",
    "import scipy\n",
    "import numpy as np\n"
   ]
  },
  {
   "cell_type": "code",
   "execution_count": 5,
   "id": "025acb06-412f-4f8e-87b3-d707cbf0365f",
   "metadata": {},
   "outputs": [],
   "source": [
    "# calculating the Two tail T-test\n",
    "s, p = s.ttest_ind(control, treat)"
   ]
  },
  {
   "cell_type": "code",
   "execution_count": 6,
   "id": "888fd109-6cac-429e-927d-4322c9369672",
   "metadata": {},
   "outputs": [
    {
     "name": "stdout",
     "output_type": "stream",
     "text": [
      "-3.4456126735364876 0.006272124350809803\n"
     ]
    }
   ],
   "source": [
    "print(s , p)"
   ]
  },
  {
   "cell_type": "code",
   "execution_count": 7,
   "id": "131a01bd-f71e-471b-9bfa-f6fff2371476",
   "metadata": {},
   "outputs": [
    {
     "name": "stdout",
     "output_type": "stream",
     "text": [
      "Reject the Null Hypothesis i.e Medicine Has effect\n"
     ]
    }
   ],
   "source": [
    "if p<0.5:\n",
    "    print(\"Reject the Null Hypothesis i.e Medicine Has effect\")\n",
    "else:\n",
    "    print(\"Fail to reject Null Hypothesis i.e medicine is not effective\")"
   ]
  }
 ],
 "metadata": {
  "kernelspec": {
   "display_name": "Python 3 (ipykernel)",
   "language": "python",
   "name": "python3"
  },
  "language_info": {
   "codemirror_mode": {
    "name": "ipython",
    "version": 3
   },
   "file_extension": ".py",
   "mimetype": "text/x-python",
   "name": "python",
   "nbconvert_exporter": "python",
   "pygments_lexer": "ipython3",
   "version": "3.11.7"
  }
 },
 "nbformat": 4,
 "nbformat_minor": 5
}
