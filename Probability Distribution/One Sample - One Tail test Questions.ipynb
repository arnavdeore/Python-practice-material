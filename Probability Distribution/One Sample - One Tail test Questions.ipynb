{
 "cells": [
  {
   "cell_type": "markdown",
   "id": "7afcace6-baa4-439c-97ac-6371f68d9b33",
   "metadata": {},
   "source": [
    "# Questions\n",
    "\n",
    "#### An outbreak of Salmonella related illness was attributed to ice cream produced at a certain factory. Scientists measured the level of Salmonella                 in 9 randomly samped batches of ice cream.Is there evidence that the mean level of salmonella in the ice cream is greater than 0.3 MPN/g ? \n",
    "             \n",
    "             The level(in MPN/g) were             \n",
    "             Sample1 = (0.593, 0.142, 0.329, 0.691, 0.231, 0.793, 0.519, 0.392, 0.418)\n",
    "                     \n",
    "           -> Given Data, \n",
    "                        n = 9, μ = 0.3, α = 0.05\n",
    "                        \n",
    "    Steps==> 1.Types of Hypothesis: \n",
    "               Ho - No assumption i.e \"μ <=0.3 MPN/g\"\n",
    "               Ha - \"μ >= 0.3 MPN/g\" i.e factory is causing the problem/cause of illness.\n",
    "\n",
    "            2.Type of test: T-test\n",
    "              Clearly no population Standard deviation is missing so its an T-Test               \n",
    "\n",
    "            3.Type of Tail test: One Tail test.\n",
    "\n",
    "            4.Alpha Value(α): 0.5\n",
    "              as its not given so as per the industires rules we will go with 95% confidence level.\n",
    "\n",
    "            5.P-Value: 0.05853032968489765  \n",
    "\n",
    "            6.Conclusion:\n",
    "                P-value < Alpha(α) = Reject the Null hypothesis(Ho)\n",
    "                P-value > Alpha(α) = Failed to reject the Null Hypothesis"
   ]
  },
  {
   "cell_type": "code",
   "execution_count": 1,
   "id": "3a7ff86e-310f-401a-8c2f-8d770fc70dd8",
   "metadata": {},
   "outputs": [
    {
     "data": {
      "text/plain": [
       "0.45644444444444443"
      ]
     },
     "execution_count": 1,
     "metadata": {},
     "output_type": "execute_result"
    }
   ],
   "source": [
    "#Calculatiing the Sample mean(x̄)\n",
    "import statistics as s\n",
    "Data = [0.593, 0.142, 0.329, 0.691, 0.231, 0.793, 0.519, 0.392, 0.418]\n",
    "s.mean(Data)"
   ]
  },
  {
   "cell_type": "code",
   "execution_count": 2,
   "id": "4021c222-39e6-4382-bb19-4eec94bdb527",
   "metadata": {},
   "outputs": [
    {
     "data": {
      "text/plain": [
       "0.21284390472310402"
      ]
     },
     "execution_count": 2,
     "metadata": {},
     "output_type": "execute_result"
    }
   ],
   "source": [
    "#Calculating the Sample Standard Deviation(SD)\n",
    "s.stdev(Data)"
   ]
  },
  {
   "cell_type": "code",
   "execution_count": 3,
   "id": "9645428e-f193-4dfb-9161-b1c320eadea7",
   "metadata": {},
   "outputs": [],
   "source": [
    "#Import Libraries.\n",
    "from scipy import stats as st\n",
    "import scipy\n",
    "import numpy as np"
   ]
  },
  {
   "cell_type": "code",
   "execution_count": 4,
   "id": "d0bfe478-2488-4a89-b707-022f11a6cd48",
   "metadata": {},
   "outputs": [
    {
     "data": {
      "text/plain": [
       "TtestResult(statistic=2.2050588385131595, pvalue=0.05853032968489765, df=8)"
      ]
     },
     "execution_count": 4,
     "metadata": {},
     "output_type": "execute_result"
    }
   ],
   "source": [
    "#Scipy library to calculate the T-Test that is \"ttest_1samp\"\n",
    "#this will give the 2 Tail test P-Value so to get the one tail P-value we will divide the output of P-Value with 2\n",
    "scipy.stats.ttest_1samp(Data,0.3)"
   ]
  },
  {
   "cell_type": "code",
   "execution_count": 5,
   "id": "f45005d2-7ea4-4225-9a3c-8d0dffca8f4f",
   "metadata": {},
   "outputs": [],
   "source": [
    "#to store values of statistical value and p value\n",
    "s,p = scipy.stats.ttest_1samp(Data,0.3)"
   ]
  },
  {
   "cell_type": "code",
   "execution_count": 6,
   "id": "d9d22c9a-5c2e-4f5a-b4da-23e01f619a40",
   "metadata": {},
   "outputs": [
    {
     "data": {
      "text/plain": [
       "0.029265164842448826"
      ]
     },
     "execution_count": 6,
     "metadata": {},
     "output_type": "execute_result"
    }
   ],
   "source": [
    "P_value = p/2 #divided the P-value by 2 to get the one tail test P-value\n",
    "P_value"
   ]
  },
  {
   "cell_type": "code",
   "execution_count": 7,
   "id": "996eea40-1918-4322-b5e9-622dfcd43074",
   "metadata": {},
   "outputs": [
    {
     "name": "stdout",
     "output_type": "stream",
     "text": [
      "Reject Null Hypothesis i.e Ice-cream factory is cause the problem for the Illness\n"
     ]
    }
   ],
   "source": [
    "# Conclusion\n",
    "if P_value < 0.05:\n",
    "    print(f\"Reject Null Hypothesis i.e Ice-cream factory is cause the problem for the Illness\")\n",
    "else:\n",
    "    print(f\"Fail to reject Null Hypothesis i.e Ice-cream factory is not causing the problem for Illness\")"
   ]
  }
 ],
 "metadata": {
  "kernelspec": {
   "display_name": "Python 3 (ipykernel)",
   "language": "python",
   "name": "python3"
  },
  "language_info": {
   "codemirror_mode": {
    "name": "ipython",
    "version": 3
   },
   "file_extension": ".py",
   "mimetype": "text/x-python",
   "name": "python",
   "nbconvert_exporter": "python",
   "pygments_lexer": "ipython3",
   "version": "3.11.7"
  }
 },
 "nbformat": 4,
 "nbformat_minor": 5
}
